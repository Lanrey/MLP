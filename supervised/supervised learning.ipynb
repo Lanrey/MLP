{
 "cells": [
  {
   "cell_type": "markdown",
   "metadata": {},
   "source": [
    "Goals: Explore more on supervised learning algorithms\n",
    "\n",
    "Two major types: Classification and Regression\n",
    "\n",
    "Under Classification, there are two types: binary classification and multi-class classification, In binary classification, the algorithm predicts between two classes(i.e, Yes or No), while the multi-class algorithm predicts among two or more classes.\n",
    "\n",
    "Examples of Binary Classification:\n",
    "\n",
    "1. Binary classification: Is the email spam or not?\n",
    "\n",
    "Example of Multi-class Classification:\n",
    "\n",
    "1. Iris DataSet \n",
    "\n",
    "For regression tasks, the goal is to predict a continous value, for example predict a person's personal income from the education, age and where the person has lived.\n",
    "\n",
    "A better way to think about classification and regression is to ask the question \"Is there an ordering or continuity between the values, or do I just need a discrete value predicted?\""
   ]
  },
  {
   "cell_type": "markdown",
   "metadata": {},
   "source": [
    "Generalization, Overfitting and Underfitting\n",
    "\n",
    "Generalization: Make models that predict accurately based on the training from different "
   ]
  }
 ],
 "metadata": {
  "kernelspec": {
   "display_name": "Python 3",
   "language": "python",
   "name": "python3"
  },
  "language_info": {
   "codemirror_mode": {
    "name": "ipython",
    "version": 3
   },
   "file_extension": ".py",
   "mimetype": "text/x-python",
   "name": "python",
   "nbconvert_exporter": "python",
   "pygments_lexer": "ipython3",
   "version": "3.6.1"
  }
 },
 "nbformat": 4,
 "nbformat_minor": 2
}
